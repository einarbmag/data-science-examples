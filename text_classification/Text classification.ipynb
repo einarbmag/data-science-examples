{
 "cells": [
  {
   "cell_type": "code",
   "execution_count": 123,
   "metadata": {
    "collapsed": false
   },
   "outputs": [],
   "source": [
    "import pandas as pd\n",
    "import numpy as np\n",
    "\n",
    "from nltk.util import skipgrams\n",
    "from nltk.corpus import stopwords, movie_reviews\n",
    "\n",
    "from sklearn.model_selection import train_test_split\n",
    "from sklearn.feature_extraction.text import TfidfVectorizer\n",
    "\n",
    "\n",
    "from keras.preprocessing.text import Tokenizer\n",
    "from keras.preprocessing.sequence import pad_sequences\n",
    "from keras.models import Sequential\n",
    "from keras.layers import Dense\n",
    "from keras.layers import LSTM\n",
    "from keras.layers import Embedding"
   ]
  },
  {
   "cell_type": "code",
   "execution_count": 106,
   "metadata": {
    "collapsed": false
   },
   "outputs": [],
   "source": [
    "reviews = list(zip(*[(\" \".join(list(movie_reviews.words(fileid))), category)\n",
    "              for category in movie_reviews.categories()\n",
    "              for fileid in movie_reviews.fileids(category)]))\n",
    "\n",
    "text = reviews[0]\n",
    "category = [0 if cat == \"neg\" else 1 for cat in reviews[1]]"
   ]
  },
  {
   "cell_type": "markdown",
   "metadata": {},
   "source": [
    "## TF-IDF approach\n",
    "\n",
    "A simple approach using n-grams or skip-grams"
   ]
  },
  {
   "cell_type": "code",
   "execution_count": 48,
   "metadata": {
    "collapsed": false
   },
   "outputs": [
    {
     "data": {
      "text/plain": [
       "TfidfVectorizer(analyzer=<function grams_by_word at 0x11497be18>,\n",
       "        binary=False, decode_error='strict', dtype=<class 'numpy.int64'>,\n",
       "        encoding='utf-8', input='content', lowercase=True, max_df=1.0,\n",
       "        max_features=None, min_df=1, ngram_range=(1, 1), norm='l2',\n",
       "        preprocessor=None, smooth_idf=True, stop_words=None,\n",
       "        strip_accents=None, sublinear_tf=False,\n",
       "        token_pattern='(?u)\\\\b\\\\w\\\\w+\\\\b', tokenizer=None, use_idf=True,\n",
       "        vocabulary=None)"
      ]
     },
     "execution_count": 48,
     "metadata": {},
     "output_type": "execute_result"
    }
   ],
   "source": [
    "def grams_by_word(wordlist, n=3, k=1):\n",
    "    output = []\n",
    "    strings = list(filter(lambda word: word not in stopWords, wordlist))\n",
    "    for string in strings:\n",
    "        string = string.ljust(n)\n",
    "        output.extend(skipgrams(string,n,k))\n",
    "    return output\n",
    "\n",
    "vectorizer = TfidfVectorizer(min_df=1, analyzer=grams_by_word)\n",
    "vectorizer.fit([review[0] for review in train])"
   ]
  },
  {
   "cell_type": "code",
   "execution_count": 33,
   "metadata": {
    "collapsed": true
   },
   "outputs": [],
   "source": [
    "stopWords = set(stopwords.words('english'))"
   ]
  },
  {
   "cell_type": "code",
   "execution_count": 32,
   "metadata": {
    "collapsed": false
   },
   "outputs": [],
   "source": [
    "X_train, X_test, y_train, y_test = train_test_split(text, category, test_size=0.25, stratify=category)"
   ]
  },
  {
   "cell_type": "code",
   "execution_count": 49,
   "metadata": {
    "collapsed": false
   },
   "outputs": [],
   "source": [
    "X_train_tfidf = vectorizer.transform(X_train)"
   ]
  },
  {
   "cell_type": "code",
   "execution_count": 50,
   "metadata": {
    "collapsed": true
   },
   "outputs": [],
   "source": [
    "from sklearn.model_selection import cross_val_score, GridSearchCV\n",
    "from sklearn.linear_model import LogisticRegression"
   ]
  },
  {
   "cell_type": "code",
   "execution_count": 65,
   "metadata": {
    "collapsed": false
   },
   "outputs": [],
   "source": [
    "parameters = {'C':[0.01,0.1,1,10,100]}\n",
    "model=GridSearchCV(LogisticRegression(), parameters, cv=5)\n",
    "model.fit(X_train_tfidf, y_train);"
   ]
  },
  {
   "cell_type": "code",
   "execution_count": 66,
   "metadata": {
    "collapsed": false
   },
   "outputs": [
    {
     "data": {
      "text/plain": [
       "array([ 0.73466667,  0.76733333,  0.79733333,  0.81133333,  0.812     ])"
      ]
     },
     "execution_count": 66,
     "metadata": {},
     "output_type": "execute_result"
    }
   ],
   "source": [
    "model.cv_results_['mean_test_score']"
   ]
  },
  {
   "cell_type": "markdown",
   "metadata": {},
   "source": [
    "## LSTM approach"
   ]
  },
  {
   "cell_type": "markdown",
   "metadata": {},
   "source": [
    "#### GloVe embeddings"
   ]
  },
  {
   "cell_type": "code",
   "execution_count": 76,
   "metadata": {
    "collapsed": false
   },
   "outputs": [
    {
     "name": "stdout",
     "output_type": "stream",
     "text": [
      "Loaded 400000 word vectors.\n"
     ]
    }
   ],
   "source": [
    "embeddings_index = dict()\n",
    "glove_path = \"word_embeddings/glove.6B/glove.6B.50d.txt\"\n",
    "with open(glove_path) as f:\n",
    "    for line in f:\n",
    "        values = line.split()\n",
    "        word = values[0]\n",
    "        coefs = np.asarray(values[1:], dtype='float32')\n",
    "        embeddings_index[word] = coefs\n",
    "\n",
    "print('Loaded %s word vectors.' % len(embeddings_index))"
   ]
  },
  {
   "cell_type": "markdown",
   "metadata": {},
   "source": [
    "#### Tokenize text"
   ]
  },
  {
   "cell_type": "code",
   "execution_count": 99,
   "metadata": {
    "collapsed": false
   },
   "outputs": [],
   "source": [
    "t = Tokenizer()\n",
    "t.fit_on_texts(text)\n",
    "vocab_size = len(t.word_index) + 1"
   ]
  },
  {
   "cell_type": "code",
   "execution_count": 115,
   "metadata": {
    "collapsed": true
   },
   "outputs": [],
   "source": [
    "encoded_text = t.texts_to_sequences(text)\n",
    "# pad documents to a max length of 4 words\n",
    "max_length = 100\n",
    "padded_docs = pad_sequences(encoded_text, maxlen=max_length, padding='post')"
   ]
  },
  {
   "cell_type": "code",
   "execution_count": 116,
   "metadata": {
    "collapsed": true
   },
   "outputs": [],
   "source": [
    "# train-test split \n",
    "X_train, X_test, y_train, y_test = train_test_split(padded_docs, category, test_size=0.25, stratify=category)"
   ]
  },
  {
   "cell_type": "code",
   "execution_count": 117,
   "metadata": {
    "collapsed": false
   },
   "outputs": [],
   "source": [
    "# create a weight matrix for words in training docs\n",
    "embedding_matrix = np.zeros((vocab_size, 50))\n",
    "for word, i in t.word_index.items():\n",
    "    embedding_vector = embeddings_index.get(word)\n",
    "    if embedding_vector is not None:\n",
    "        embedding_matrix[i] = embedding_vector"
   ]
  },
  {
   "cell_type": "code",
   "execution_count": 124,
   "metadata": {
    "collapsed": false
   },
   "outputs": [
    {
     "name": "stdout",
     "output_type": "stream",
     "text": [
      "_________________________________________________________________\n",
      "Layer (type)                 Output Shape              Param #   \n",
      "=================================================================\n",
      "embedding_11 (Embedding)     (None, 100, 50)           1970400   \n",
      "_________________________________________________________________\n",
      "lstm_1 (LSTM)                (None, 20)                5680      \n",
      "_________________________________________________________________\n",
      "dense_10 (Dense)             (None, 1)                 21        \n",
      "=================================================================\n",
      "Total params: 1,976,101\n",
      "Trainable params: 5,701\n",
      "Non-trainable params: 1,970,400\n",
      "_________________________________________________________________\n",
      "None\n",
      "Train on 1200 samples, validate on 300 samples\n",
      "Epoch 1/50\n",
      "1200/1200 [==============================] - 14s - loss: 0.6924 - acc: 0.5267 - val_loss: 0.6971 - val_acc: 0.5300\n",
      "Epoch 2/50\n",
      "1200/1200 [==============================] - 13s - loss: 0.6719 - acc: 0.5950 - val_loss: 0.6883 - val_acc: 0.5533\n",
      "Epoch 3/50\n",
      "1200/1200 [==============================] - 13s - loss: 0.6602 - acc: 0.6192 - val_loss: 0.6722 - val_acc: 0.5867\n",
      "Epoch 4/50\n",
      "1200/1200 [==============================] - 13s - loss: 0.6423 - acc: 0.6375 - val_loss: 0.6535 - val_acc: 0.6367\n",
      "Epoch 5/50\n",
      "1200/1200 [==============================] - 13s - loss: 0.6219 - acc: 0.6475 - val_loss: 0.6390 - val_acc: 0.6567\n",
      "Epoch 6/50\n",
      "1200/1200 [==============================] - 13s - loss: 0.6038 - acc: 0.6792 - val_loss: 0.6142 - val_acc: 0.6700\n",
      "Epoch 7/50\n",
      "1200/1200 [==============================] - 13s - loss: 0.5928 - acc: 0.6808 - val_loss: 0.6066 - val_acc: 0.6700\n",
      "Epoch 8/50\n",
      "1200/1200 [==============================] - 15s - loss: 0.5809 - acc: 0.7000 - val_loss: 0.6252 - val_acc: 0.6633\n",
      "Epoch 9/50\n",
      "1200/1200 [==============================] - 13s - loss: 0.5668 - acc: 0.7075 - val_loss: 0.5874 - val_acc: 0.7133\n",
      "Epoch 10/50\n",
      "1200/1200 [==============================] - 13s - loss: 0.5632 - acc: 0.7092 - val_loss: 0.5744 - val_acc: 0.7100\n",
      "Epoch 11/50\n",
      "1200/1200 [==============================] - 13s - loss: 0.5517 - acc: 0.7225 - val_loss: 0.6007 - val_acc: 0.7100\n",
      "Epoch 12/50\n",
      "1200/1200 [==============================] - 13s - loss: 0.5485 - acc: 0.7317 - val_loss: 0.6316 - val_acc: 0.6867\n",
      "Epoch 13/50\n",
      "1200/1200 [==============================] - 13s - loss: 0.5365 - acc: 0.7433 - val_loss: 0.5984 - val_acc: 0.7000\n",
      "Epoch 14/50\n",
      "1200/1200 [==============================] - 13s - loss: 0.5256 - acc: 0.7383 - val_loss: 0.6071 - val_acc: 0.7033\n",
      "Epoch 15/50\n",
      "1200/1200 [==============================] - 13s - loss: 0.5265 - acc: 0.7458 - val_loss: 0.5608 - val_acc: 0.7267\n",
      "Epoch 16/50\n",
      "1200/1200 [==============================] - 13s - loss: 0.5288 - acc: 0.7467 - val_loss: 0.6439 - val_acc: 0.6633\n",
      "Epoch 17/50\n",
      "1200/1200 [==============================] - 13s - loss: 0.5072 - acc: 0.7533 - val_loss: 0.6238 - val_acc: 0.6900\n",
      "Epoch 18/50\n",
      "1200/1200 [==============================] - 13s - loss: 0.5144 - acc: 0.7558 - val_loss: 0.5761 - val_acc: 0.7167\n",
      "Epoch 19/50\n",
      "1200/1200 [==============================] - 13s - loss: 0.5025 - acc: 0.7733 - val_loss: 0.5710 - val_acc: 0.7100\n",
      "Epoch 20/50\n",
      "1200/1200 [==============================] - 13s - loss: 0.4948 - acc: 0.7758 - val_loss: 0.5655 - val_acc: 0.7167\n",
      "Epoch 21/50\n",
      "1200/1200 [==============================] - 13s - loss: 0.4860 - acc: 0.7867 - val_loss: 0.5635 - val_acc: 0.7200\n",
      "Epoch 22/50\n",
      "1200/1200 [==============================] - 13s - loss: 0.4851 - acc: 0.7650 - val_loss: 0.5925 - val_acc: 0.6900\n",
      "Epoch 23/50\n",
      "1200/1200 [==============================] - 14s - loss: 0.4789 - acc: 0.7833 - val_loss: 0.6208 - val_acc: 0.6867\n",
      "Epoch 24/50\n",
      "1200/1200 [==============================] - 13s - loss: 0.4755 - acc: 0.7842 - val_loss: 0.6293 - val_acc: 0.6867\n",
      "Epoch 25/50\n",
      "1200/1200 [==============================] - 13s - loss: 0.4716 - acc: 0.7917 - val_loss: 0.6000 - val_acc: 0.7100\n",
      "Epoch 26/50\n",
      "1200/1200 [==============================] - 13s - loss: 0.4543 - acc: 0.7992 - val_loss: 0.6819 - val_acc: 0.6700\n",
      "Epoch 27/50\n",
      "1200/1200 [==============================] - 13s - loss: 0.4592 - acc: 0.7875 - val_loss: 0.6304 - val_acc: 0.6933\n",
      "Epoch 28/50\n",
      "1200/1200 [==============================] - 13s - loss: 0.4505 - acc: 0.8017 - val_loss: 0.5593 - val_acc: 0.7233\n",
      "Epoch 29/50\n",
      "1200/1200 [==============================] - 12s - loss: 0.4499 - acc: 0.7983 - val_loss: 0.5563 - val_acc: 0.7300\n",
      "Epoch 30/50\n",
      "1200/1200 [==============================] - 13s - loss: 0.4442 - acc: 0.8058 - val_loss: 0.5506 - val_acc: 0.7333\n",
      "Epoch 31/50\n",
      "1200/1200 [==============================] - 13s - loss: 0.4399 - acc: 0.8067 - val_loss: 0.5829 - val_acc: 0.7200\n",
      "Epoch 32/50\n",
      "1200/1200 [==============================] - 13s - loss: 0.4280 - acc: 0.8058 - val_loss: 0.5615 - val_acc: 0.7333\n",
      "Epoch 33/50\n",
      "1200/1200 [==============================] - 14s - loss: 0.4250 - acc: 0.8075 - val_loss: 0.5564 - val_acc: 0.7400\n",
      "Epoch 34/50\n",
      "1200/1200 [==============================] - 13s - loss: 0.4205 - acc: 0.8142 - val_loss: 0.5637 - val_acc: 0.7300\n",
      "Epoch 35/50\n",
      "1200/1200 [==============================] - 13s - loss: 0.4138 - acc: 0.8117 - val_loss: 0.6255 - val_acc: 0.7067\n",
      "Epoch 36/50\n",
      "1200/1200 [==============================] - 13s - loss: 0.4155 - acc: 0.8125 - val_loss: 0.5803 - val_acc: 0.7400\n",
      "Epoch 37/50\n",
      "1200/1200 [==============================] - 13s - loss: 0.3998 - acc: 0.8450 - val_loss: 0.5729 - val_acc: 0.7533\n",
      "Epoch 38/50\n",
      "1200/1200 [==============================] - 13s - loss: 0.4043 - acc: 0.8242 - val_loss: 0.6248 - val_acc: 0.7233\n",
      "Epoch 39/50\n",
      "1200/1200 [==============================] - 13s - loss: 0.4028 - acc: 0.8167 - val_loss: 0.5733 - val_acc: 0.7400\n",
      "Epoch 40/50\n",
      "1200/1200 [==============================] - 13s - loss: 0.3843 - acc: 0.8367 - val_loss: 0.6843 - val_acc: 0.6767\n",
      "Epoch 41/50\n",
      "1200/1200 [==============================] - 13s - loss: 0.3814 - acc: 0.8333 - val_loss: 0.5809 - val_acc: 0.7300\n",
      "Epoch 42/50\n",
      "1200/1200 [==============================] - 13s - loss: 0.3716 - acc: 0.8508 - val_loss: 0.6966 - val_acc: 0.6800\n",
      "Epoch 43/50\n",
      "1200/1200 [==============================] - 13s - loss: 0.3719 - acc: 0.8367 - val_loss: 0.6017 - val_acc: 0.7367\n",
      "Epoch 44/50\n",
      "1200/1200 [==============================] - 13s - loss: 0.3612 - acc: 0.8475 - val_loss: 0.5833 - val_acc: 0.7233\n",
      "Epoch 45/50\n",
      "1200/1200 [==============================] - 13s - loss: 0.3557 - acc: 0.8508 - val_loss: 0.5995 - val_acc: 0.7333\n",
      "Epoch 46/50\n",
      "1200/1200 [==============================] - 14s - loss: 0.3499 - acc: 0.8517 - val_loss: 0.6024 - val_acc: 0.7400\n",
      "Epoch 47/50\n",
      "1200/1200 [==============================] - 14s - loss: 0.3284 - acc: 0.8575 - val_loss: 0.6167 - val_acc: 0.7433\n",
      "Epoch 48/50\n",
      "1200/1200 [==============================] - 12s - loss: 0.3281 - acc: 0.8717 - val_loss: 0.6361 - val_acc: 0.7200\n",
      "Epoch 49/50\n",
      "1200/1200 [==============================] - 13s - loss: 0.3266 - acc: 0.8692 - val_loss: 0.6322 - val_acc: 0.7333\n",
      "Epoch 50/50\n",
      "1200/1200 [==============================] - 13s - loss: 0.3149 - acc: 0.8775 - val_loss: 0.6215 - val_acc: 0.7433\n",
      "500/500 [==============================] - 1s     \n",
      "Accuracy: 67.800000\n"
     ]
    }
   ],
   "source": [
    "# define model\n",
    "model = Sequential()\n",
    "e = Embedding(vocab_size, 50, weights=[embedding_matrix], input_length=100, trainable=False)\n",
    "model.add(e)\n",
    "model.add(LSTM(20, input_shape=(100, 1)))\n",
    "model.add(Dense(1, activation='sigmoid'))\n",
    "# compile the model\n",
    "model.compile(optimizer='RMSprop', loss='binary_crossentropy', metrics=['acc'])\n",
    "# summarize the model\n",
    "print(model.summary())\n",
    "# fit the model\n",
    "model.fit(X_train, y_train, epochs=50, validation_split=0.2, verbose=1)\n",
    "# evaluate the model\n",
    "loss, accuracy = model.evaluate(X_test, y_test, verbose=1)\n",
    "print('Accuracy: %f' % (accuracy*100))"
   ]
  },
  {
   "cell_type": "markdown",
   "metadata": {},
   "source": [
    "#### Training Embedding layer from scratch"
   ]
  },
  {
   "cell_type": "code",
   "execution_count": 125,
   "metadata": {
    "collapsed": false
   },
   "outputs": [
    {
     "name": "stdout",
     "output_type": "stream",
     "text": [
      "_________________________________________________________________\n",
      "Layer (type)                 Output Shape              Param #   \n",
      "=================================================================\n",
      "embedding_12 (Embedding)     (None, 100, 50)           1970400   \n",
      "_________________________________________________________________\n",
      "lstm_2 (LSTM)                (None, 20)                5680      \n",
      "_________________________________________________________________\n",
      "dense_11 (Dense)             (None, 1)                 21        \n",
      "=================================================================\n",
      "Total params: 1,976,101\n",
      "Trainable params: 1,976,101\n",
      "Non-trainable params: 0\n",
      "_________________________________________________________________\n",
      "None\n",
      "Train on 1200 samples, validate on 300 samples\n",
      "Epoch 1/50\n",
      "1200/1200 [==============================] - 15s - loss: 0.6919 - acc: 0.5408 - val_loss: 0.6899 - val_acc: 0.5467\n",
      "Epoch 2/50\n",
      "1200/1200 [==============================] - 14s - loss: 0.6387 - acc: 0.7483 - val_loss: 0.6537 - val_acc: 0.6133\n",
      "Epoch 3/50\n",
      "1200/1200 [==============================] - 14s - loss: 0.4323 - acc: 0.8592 - val_loss: 0.5221 - val_acc: 0.7600\n",
      "Epoch 4/50\n",
      "1200/1200 [==============================] - 14s - loss: 0.2438 - acc: 0.9375 - val_loss: 0.5575 - val_acc: 0.7367\n",
      "Epoch 5/50\n",
      "1200/1200 [==============================] - 14s - loss: 0.1249 - acc: 0.9733 - val_loss: 0.6043 - val_acc: 0.7500\n",
      "Epoch 6/50\n",
      "1200/1200 [==============================] - 14s - loss: 0.0607 - acc: 0.9900 - val_loss: 0.5661 - val_acc: 0.7700\n",
      "Epoch 7/50\n",
      "1200/1200 [==============================] - 14s - loss: 0.0240 - acc: 0.9992 - val_loss: 0.6127 - val_acc: 0.7500\n",
      "Epoch 8/50\n",
      "1200/1200 [==============================] - 15s - loss: 0.0202 - acc: 0.9983 - val_loss: 0.9651 - val_acc: 0.7233\n",
      "Epoch 9/50\n",
      "1200/1200 [==============================] - 14s - loss: 0.0115 - acc: 0.9983 - val_loss: 0.7226 - val_acc: 0.7733\n",
      "Epoch 10/50\n",
      "1200/1200 [==============================] - 14s - loss: 0.0055 - acc: 1.0000 - val_loss: 1.1120 - val_acc: 0.7467\n",
      "Epoch 11/50\n",
      "1200/1200 [==============================] - 14s - loss: 0.0144 - acc: 0.9975 - val_loss: 0.9918 - val_acc: 0.7533\n",
      "Epoch 12/50\n",
      "1200/1200 [==============================] - 14s - loss: 0.0026 - acc: 1.0000 - val_loss: 1.3562 - val_acc: 0.7100\n",
      "Epoch 13/50\n",
      "1200/1200 [==============================] - 14s - loss: 0.0015 - acc: 1.0000 - val_loss: 1.7781 - val_acc: 0.7100\n",
      "Epoch 14/50\n",
      "1200/1200 [==============================] - 14s - loss: 0.0012 - acc: 1.0000 - val_loss: 1.5127 - val_acc: 0.7267\n",
      "Epoch 15/50\n",
      "1200/1200 [==============================] - 14s - loss: 5.8130e-04 - acc: 1.0000 - val_loss: 1.9538 - val_acc: 0.7000\n",
      "Epoch 16/50\n",
      "1200/1200 [==============================] - 14s - loss: 0.0081 - acc: 0.9992 - val_loss: 1.7106 - val_acc: 0.7333\n",
      "Epoch 17/50\n",
      "1200/1200 [==============================] - 14s - loss: 0.0242 - acc: 0.9950 - val_loss: 1.4831 - val_acc: 0.7233\n",
      "Epoch 18/50\n",
      " 736/1200 [=================>............] - ETA: 5s - loss: 3.2437e-04 - acc: 1.0000"
     ]
    },
    {
     "ename": "KeyboardInterrupt",
     "evalue": "",
     "output_type": "error",
     "traceback": [
      "\u001b[0;31m---------------------------------------------------------------------------\u001b[0m",
      "\u001b[0;31mKeyboardInterrupt\u001b[0m                         Traceback (most recent call last)",
      "\u001b[0;32m<ipython-input-125-4622e5b91aea>\u001b[0m in \u001b[0;36m<module>\u001b[0;34m()\u001b[0m\n\u001b[1;32m     10\u001b[0m \u001b[0mprint\u001b[0m\u001b[0;34m(\u001b[0m\u001b[0mmodel\u001b[0m\u001b[0;34m.\u001b[0m\u001b[0msummary\u001b[0m\u001b[0;34m(\u001b[0m\u001b[0;34m)\u001b[0m\u001b[0;34m)\u001b[0m\u001b[0;34m\u001b[0m\u001b[0m\n\u001b[1;32m     11\u001b[0m \u001b[0;31m# fit the model\u001b[0m\u001b[0;34m\u001b[0m\u001b[0;34m\u001b[0m\u001b[0m\n\u001b[0;32m---> 12\u001b[0;31m \u001b[0mmodel\u001b[0m\u001b[0;34m.\u001b[0m\u001b[0mfit\u001b[0m\u001b[0;34m(\u001b[0m\u001b[0mX_train\u001b[0m\u001b[0;34m,\u001b[0m \u001b[0my_train\u001b[0m\u001b[0;34m,\u001b[0m \u001b[0mepochs\u001b[0m\u001b[0;34m=\u001b[0m\u001b[0;36m50\u001b[0m\u001b[0;34m,\u001b[0m \u001b[0mvalidation_split\u001b[0m\u001b[0;34m=\u001b[0m\u001b[0;36m0.2\u001b[0m\u001b[0;34m,\u001b[0m \u001b[0mverbose\u001b[0m\u001b[0;34m=\u001b[0m\u001b[0;36m1\u001b[0m\u001b[0;34m)\u001b[0m\u001b[0;34m\u001b[0m\u001b[0m\n\u001b[0m\u001b[1;32m     13\u001b[0m \u001b[0;31m# evaluate the model\u001b[0m\u001b[0;34m\u001b[0m\u001b[0;34m\u001b[0m\u001b[0m\n\u001b[1;32m     14\u001b[0m \u001b[0mloss\u001b[0m\u001b[0;34m,\u001b[0m \u001b[0maccuracy\u001b[0m \u001b[0;34m=\u001b[0m \u001b[0mmodel\u001b[0m\u001b[0;34m.\u001b[0m\u001b[0mevaluate\u001b[0m\u001b[0;34m(\u001b[0m\u001b[0mX_test\u001b[0m\u001b[0;34m,\u001b[0m \u001b[0my_test\u001b[0m\u001b[0;34m,\u001b[0m \u001b[0mverbose\u001b[0m\u001b[0;34m=\u001b[0m\u001b[0;36m1\u001b[0m\u001b[0;34m)\u001b[0m\u001b[0;34m\u001b[0m\u001b[0m\n",
      "\u001b[0;32m/Users/einarbui/anaconda/lib/python3.5/site-packages/keras/models.py\u001b[0m in \u001b[0;36mfit\u001b[0;34m(self, x, y, batch_size, epochs, verbose, callbacks, validation_split, validation_data, shuffle, class_weight, sample_weight, initial_epoch, **kwargs)\u001b[0m\n\u001b[1;32m    865\u001b[0m                               \u001b[0mclass_weight\u001b[0m\u001b[0;34m=\u001b[0m\u001b[0mclass_weight\u001b[0m\u001b[0;34m,\u001b[0m\u001b[0;34m\u001b[0m\u001b[0m\n\u001b[1;32m    866\u001b[0m                               \u001b[0msample_weight\u001b[0m\u001b[0;34m=\u001b[0m\u001b[0msample_weight\u001b[0m\u001b[0;34m,\u001b[0m\u001b[0;34m\u001b[0m\u001b[0m\n\u001b[0;32m--> 867\u001b[0;31m                               initial_epoch=initial_epoch)\n\u001b[0m\u001b[1;32m    868\u001b[0m \u001b[0;34m\u001b[0m\u001b[0m\n\u001b[1;32m    869\u001b[0m     def evaluate(self, x, y, batch_size=32, verbose=1,\n",
      "\u001b[0;32m/Users/einarbui/anaconda/lib/python3.5/site-packages/keras/engine/training.py\u001b[0m in \u001b[0;36mfit\u001b[0;34m(self, x, y, batch_size, epochs, verbose, callbacks, validation_split, validation_data, shuffle, class_weight, sample_weight, initial_epoch, steps_per_epoch, validation_steps, **kwargs)\u001b[0m\n\u001b[1;32m   1596\u001b[0m                               \u001b[0minitial_epoch\u001b[0m\u001b[0;34m=\u001b[0m\u001b[0minitial_epoch\u001b[0m\u001b[0;34m,\u001b[0m\u001b[0;34m\u001b[0m\u001b[0m\n\u001b[1;32m   1597\u001b[0m                               \u001b[0msteps_per_epoch\u001b[0m\u001b[0;34m=\u001b[0m\u001b[0msteps_per_epoch\u001b[0m\u001b[0;34m,\u001b[0m\u001b[0;34m\u001b[0m\u001b[0m\n\u001b[0;32m-> 1598\u001b[0;31m                               validation_steps=validation_steps)\n\u001b[0m\u001b[1;32m   1599\u001b[0m \u001b[0;34m\u001b[0m\u001b[0m\n\u001b[1;32m   1600\u001b[0m     def evaluate(self, x, y,\n",
      "\u001b[0;32m/Users/einarbui/anaconda/lib/python3.5/site-packages/keras/engine/training.py\u001b[0m in \u001b[0;36m_fit_loop\u001b[0;34m(self, f, ins, out_labels, batch_size, epochs, verbose, callbacks, val_f, val_ins, shuffle, callback_metrics, initial_epoch, steps_per_epoch, validation_steps)\u001b[0m\n\u001b[1;32m   1181\u001b[0m                     \u001b[0mbatch_logs\u001b[0m\u001b[0;34m[\u001b[0m\u001b[0;34m'size'\u001b[0m\u001b[0;34m]\u001b[0m \u001b[0;34m=\u001b[0m \u001b[0mlen\u001b[0m\u001b[0;34m(\u001b[0m\u001b[0mbatch_ids\u001b[0m\u001b[0;34m)\u001b[0m\u001b[0;34m\u001b[0m\u001b[0m\n\u001b[1;32m   1182\u001b[0m                     \u001b[0mcallbacks\u001b[0m\u001b[0;34m.\u001b[0m\u001b[0mon_batch_begin\u001b[0m\u001b[0;34m(\u001b[0m\u001b[0mbatch_index\u001b[0m\u001b[0;34m,\u001b[0m \u001b[0mbatch_logs\u001b[0m\u001b[0;34m)\u001b[0m\u001b[0;34m\u001b[0m\u001b[0m\n\u001b[0;32m-> 1183\u001b[0;31m                     \u001b[0mouts\u001b[0m \u001b[0;34m=\u001b[0m \u001b[0mf\u001b[0m\u001b[0;34m(\u001b[0m\u001b[0mins_batch\u001b[0m\u001b[0;34m)\u001b[0m\u001b[0;34m\u001b[0m\u001b[0m\n\u001b[0m\u001b[1;32m   1184\u001b[0m                     \u001b[0;32mif\u001b[0m \u001b[0;32mnot\u001b[0m \u001b[0misinstance\u001b[0m\u001b[0;34m(\u001b[0m\u001b[0mouts\u001b[0m\u001b[0;34m,\u001b[0m \u001b[0mlist\u001b[0m\u001b[0;34m)\u001b[0m\u001b[0;34m:\u001b[0m\u001b[0;34m\u001b[0m\u001b[0m\n\u001b[1;32m   1185\u001b[0m                         \u001b[0mouts\u001b[0m \u001b[0;34m=\u001b[0m \u001b[0;34m[\u001b[0m\u001b[0mouts\u001b[0m\u001b[0;34m]\u001b[0m\u001b[0;34m\u001b[0m\u001b[0m\n",
      "\u001b[0;32m/Users/einarbui/anaconda/lib/python3.5/site-packages/keras/backend/tensorflow_backend.py\u001b[0m in \u001b[0;36m__call__\u001b[0;34m(self, inputs)\u001b[0m\n\u001b[1;32m   2271\u001b[0m         updated = session.run(self.outputs + [self.updates_op],\n\u001b[1;32m   2272\u001b[0m                               \u001b[0mfeed_dict\u001b[0m\u001b[0;34m=\u001b[0m\u001b[0mfeed_dict\u001b[0m\u001b[0;34m,\u001b[0m\u001b[0;34m\u001b[0m\u001b[0m\n\u001b[0;32m-> 2273\u001b[0;31m                               **self.session_kwargs)\n\u001b[0m\u001b[1;32m   2274\u001b[0m         \u001b[0;32mreturn\u001b[0m \u001b[0mupdated\u001b[0m\u001b[0;34m[\u001b[0m\u001b[0;34m:\u001b[0m\u001b[0mlen\u001b[0m\u001b[0;34m(\u001b[0m\u001b[0mself\u001b[0m\u001b[0;34m.\u001b[0m\u001b[0moutputs\u001b[0m\u001b[0;34m)\u001b[0m\u001b[0;34m]\u001b[0m\u001b[0;34m\u001b[0m\u001b[0m\n\u001b[1;32m   2275\u001b[0m \u001b[0;34m\u001b[0m\u001b[0m\n",
      "\u001b[0;32m/Users/einarbui/anaconda/lib/python3.5/site-packages/tensorflow/python/client/session.py\u001b[0m in \u001b[0;36mrun\u001b[0;34m(self, fetches, feed_dict, options, run_metadata)\u001b[0m\n\u001b[1;32m    765\u001b[0m     \u001b[0;32mtry\u001b[0m\u001b[0;34m:\u001b[0m\u001b[0;34m\u001b[0m\u001b[0m\n\u001b[1;32m    766\u001b[0m       result = self._run(None, fetches, feed_dict, options_ptr,\n\u001b[0;32m--> 767\u001b[0;31m                          run_metadata_ptr)\n\u001b[0m\u001b[1;32m    768\u001b[0m       \u001b[0;32mif\u001b[0m \u001b[0mrun_metadata\u001b[0m\u001b[0;34m:\u001b[0m\u001b[0;34m\u001b[0m\u001b[0m\n\u001b[1;32m    769\u001b[0m         \u001b[0mproto_data\u001b[0m \u001b[0;34m=\u001b[0m \u001b[0mtf_session\u001b[0m\u001b[0;34m.\u001b[0m\u001b[0mTF_GetBuffer\u001b[0m\u001b[0;34m(\u001b[0m\u001b[0mrun_metadata_ptr\u001b[0m\u001b[0;34m)\u001b[0m\u001b[0;34m\u001b[0m\u001b[0m\n",
      "\u001b[0;32m/Users/einarbui/anaconda/lib/python3.5/site-packages/tensorflow/python/client/session.py\u001b[0m in \u001b[0;36m_run\u001b[0;34m(self, handle, fetches, feed_dict, options, run_metadata)\u001b[0m\n\u001b[1;32m    963\u001b[0m     \u001b[0;32mif\u001b[0m \u001b[0mfinal_fetches\u001b[0m \u001b[0;32mor\u001b[0m \u001b[0mfinal_targets\u001b[0m\u001b[0;34m:\u001b[0m\u001b[0;34m\u001b[0m\u001b[0m\n\u001b[1;32m    964\u001b[0m       results = self._do_run(handle, final_targets, final_fetches,\n\u001b[0;32m--> 965\u001b[0;31m                              feed_dict_string, options, run_metadata)\n\u001b[0m\u001b[1;32m    966\u001b[0m     \u001b[0;32melse\u001b[0m\u001b[0;34m:\u001b[0m\u001b[0;34m\u001b[0m\u001b[0m\n\u001b[1;32m    967\u001b[0m       \u001b[0mresults\u001b[0m \u001b[0;34m=\u001b[0m \u001b[0;34m[\u001b[0m\u001b[0;34m]\u001b[0m\u001b[0;34m\u001b[0m\u001b[0m\n",
      "\u001b[0;32m/Users/einarbui/anaconda/lib/python3.5/site-packages/tensorflow/python/client/session.py\u001b[0m in \u001b[0;36m_do_run\u001b[0;34m(self, handle, target_list, fetch_list, feed_dict, options, run_metadata)\u001b[0m\n\u001b[1;32m   1013\u001b[0m     \u001b[0;32mif\u001b[0m \u001b[0mhandle\u001b[0m \u001b[0;32mis\u001b[0m \u001b[0;32mNone\u001b[0m\u001b[0;34m:\u001b[0m\u001b[0;34m\u001b[0m\u001b[0m\n\u001b[1;32m   1014\u001b[0m       return self._do_call(_run_fn, self._session, feed_dict, fetch_list,\n\u001b[0;32m-> 1015\u001b[0;31m                            target_list, options, run_metadata)\n\u001b[0m\u001b[1;32m   1016\u001b[0m     \u001b[0;32melse\u001b[0m\u001b[0;34m:\u001b[0m\u001b[0;34m\u001b[0m\u001b[0m\n\u001b[1;32m   1017\u001b[0m       return self._do_call(_prun_fn, self._session, handle, feed_dict,\n",
      "\u001b[0;32m/Users/einarbui/anaconda/lib/python3.5/site-packages/tensorflow/python/client/session.py\u001b[0m in \u001b[0;36m_do_call\u001b[0;34m(self, fn, *args)\u001b[0m\n\u001b[1;32m   1020\u001b[0m   \u001b[0;32mdef\u001b[0m \u001b[0m_do_call\u001b[0m\u001b[0;34m(\u001b[0m\u001b[0mself\u001b[0m\u001b[0;34m,\u001b[0m \u001b[0mfn\u001b[0m\u001b[0;34m,\u001b[0m \u001b[0;34m*\u001b[0m\u001b[0margs\u001b[0m\u001b[0;34m)\u001b[0m\u001b[0;34m:\u001b[0m\u001b[0;34m\u001b[0m\u001b[0m\n\u001b[1;32m   1021\u001b[0m     \u001b[0;32mtry\u001b[0m\u001b[0;34m:\u001b[0m\u001b[0;34m\u001b[0m\u001b[0m\n\u001b[0;32m-> 1022\u001b[0;31m       \u001b[0;32mreturn\u001b[0m \u001b[0mfn\u001b[0m\u001b[0;34m(\u001b[0m\u001b[0;34m*\u001b[0m\u001b[0margs\u001b[0m\u001b[0;34m)\u001b[0m\u001b[0;34m\u001b[0m\u001b[0m\n\u001b[0m\u001b[1;32m   1023\u001b[0m     \u001b[0;32mexcept\u001b[0m \u001b[0merrors\u001b[0m\u001b[0;34m.\u001b[0m\u001b[0mOpError\u001b[0m \u001b[0;32mas\u001b[0m \u001b[0me\u001b[0m\u001b[0;34m:\u001b[0m\u001b[0;34m\u001b[0m\u001b[0m\n\u001b[1;32m   1024\u001b[0m       \u001b[0mmessage\u001b[0m \u001b[0;34m=\u001b[0m \u001b[0mcompat\u001b[0m\u001b[0;34m.\u001b[0m\u001b[0mas_text\u001b[0m\u001b[0;34m(\u001b[0m\u001b[0me\u001b[0m\u001b[0;34m.\u001b[0m\u001b[0mmessage\u001b[0m\u001b[0;34m)\u001b[0m\u001b[0;34m\u001b[0m\u001b[0m\n",
      "\u001b[0;32m/Users/einarbui/anaconda/lib/python3.5/site-packages/tensorflow/python/client/session.py\u001b[0m in \u001b[0;36m_run_fn\u001b[0;34m(session, feed_dict, fetch_list, target_list, options, run_metadata)\u001b[0m\n\u001b[1;32m   1002\u001b[0m         return tf_session.TF_Run(session, options,\n\u001b[1;32m   1003\u001b[0m                                  \u001b[0mfeed_dict\u001b[0m\u001b[0;34m,\u001b[0m \u001b[0mfetch_list\u001b[0m\u001b[0;34m,\u001b[0m \u001b[0mtarget_list\u001b[0m\u001b[0;34m,\u001b[0m\u001b[0;34m\u001b[0m\u001b[0m\n\u001b[0;32m-> 1004\u001b[0;31m                                  status, run_metadata)\n\u001b[0m\u001b[1;32m   1005\u001b[0m \u001b[0;34m\u001b[0m\u001b[0m\n\u001b[1;32m   1006\u001b[0m     \u001b[0;32mdef\u001b[0m \u001b[0m_prun_fn\u001b[0m\u001b[0;34m(\u001b[0m\u001b[0msession\u001b[0m\u001b[0;34m,\u001b[0m \u001b[0mhandle\u001b[0m\u001b[0;34m,\u001b[0m \u001b[0mfeed_dict\u001b[0m\u001b[0;34m,\u001b[0m \u001b[0mfetch_list\u001b[0m\u001b[0;34m)\u001b[0m\u001b[0;34m:\u001b[0m\u001b[0;34m\u001b[0m\u001b[0m\n",
      "\u001b[0;31mKeyboardInterrupt\u001b[0m: "
     ]
    }
   ],
   "source": [
    "# define model\n",
    "model = Sequential()\n",
    "e = Embedding(vocab_size, 50, input_length=100)\n",
    "model.add(e)\n",
    "model.add(LSTM(20, input_shape=(100, 1)))\n",
    "model.add(Dense(1, activation='sigmoid'))\n",
    "# compile the model\n",
    "model.compile(optimizer='RMSprop', loss='binary_crossentropy', metrics=['acc'])\n",
    "# summarize the model\n",
    "print(model.summary())\n",
    "# fit the model\n",
    "model.fit(X_train, y_train, epochs=50, validation_split=0.2, verbose=1)\n",
    "# evaluate the model\n",
    "loss, accuracy = model.evaluate(X_test, y_test, verbose=1)\n",
    "print('Accuracy: %f' % (accuracy*100))"
   ]
  },
  {
   "cell_type": "code",
   "execution_count": 126,
   "metadata": {
    "collapsed": false
   },
   "outputs": [
    {
     "name": "stdout",
     "output_type": "stream",
     "text": [
      "500/500 [==============================] - 0s     \n",
      "Accuracy: 69.600000\n"
     ]
    }
   ],
   "source": [
    "loss, accuracy = model.evaluate(X_test, y_test, verbose=1)\n",
    "print('Accuracy: %f' % (accuracy*100))"
   ]
  },
  {
   "cell_type": "code",
   "execution_count": null,
   "metadata": {
    "collapsed": true
   },
   "outputs": [],
   "source": []
  }
 ],
 "metadata": {
  "kernelspec": {
   "display_name": "Python [default]",
   "language": "python",
   "name": "python3"
  },
  "language_info": {
   "codemirror_mode": {
    "name": "ipython",
    "version": 3
   },
   "file_extension": ".py",
   "mimetype": "text/x-python",
   "name": "python",
   "nbconvert_exporter": "python",
   "pygments_lexer": "ipython3",
   "version": "3.5.2"
  }
 },
 "nbformat": 4,
 "nbformat_minor": 1
}
